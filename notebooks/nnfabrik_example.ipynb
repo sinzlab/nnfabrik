{
 "cells": [
  {
   "cell_type": "markdown",
   "metadata": {},
   "source": [
    "# nnfabrik example usage"
   ]
  },
  {
   "cell_type": "markdown",
   "metadata": {},
   "source": [
    "In this notebook we will go through one example usage of nnfabrik pipeline. We have already defined our three functions ([dataset function](../nnfabrik/datasets/toy_datasets.py), [model function](../nnfabrik/models/toy_models.py), [trainer function](../nnfabrik/training/toy_trainers.py)). \n",
    "\n",
    "Remember the goal is to train models with different hyperparameters (batchsize, number of layer, learning rate, etc.). Therefore, what we are left with is to fill up the corresponding Datajoint tables with different hyper-parameter values and train models for every possible combination of those hyper-parameters"
   ]
  },
  {
   "cell_type": "markdown",
   "metadata": {},
   "source": [
    "## Connect to the database"
   ]
  },
  {
   "cell_type": "code",
   "execution_count": 1,
   "metadata": {},
   "outputs": [
    {
     "name": "stdout",
     "output_type": "stream",
     "text": [
      "Connecting anix@sinzlab.chlkmukhxp6i.eu-central-1.rds.amazonaws.com:3306\n"
     ]
    }
   ],
   "source": [
    "import os\n",
    "import datajoint as dj\n",
    "dj.config['database.host'] = os.environ['DJ_HOST']\n",
    "dj.config['database.user'] = os.environ['DJ_USER']\n",
    "dj.config['database.password'] = os.environ['DJ_PASS']\n",
    "dj.config['enable_python_native_blobs'] = True\n",
    "dj.config['schema_name'] = \"nnfabrik_example\"\n",
    "\n",
    "from nnfabrik.main import *\n",
    "import nnfabrik as nnf\n",
    "\n",
    "# nnf.config['repos'] = ['/notebooks/lib/nnfabrik']"
   ]
  },
  {
   "cell_type": "code",
   "execution_count": 17,
   "metadata": {},
   "outputs": [
    {
     "name": "stdin",
     "output_type": "stream",
     "text": [
      "Proceed to delete entire schema `nnfabrik_example`? [yes, No]:  yes\n"
     ]
    }
   ],
   "source": [
    "schema.drop()"
   ]
  },
  {
   "cell_type": "markdown",
   "metadata": {},
   "source": [
    "## Fabrikant table"
   ]
  },
  {
   "cell_type": "markdown",
   "metadata": {},
   "source": [
    "Fabrikant tables keeps a record of the users that interact with a specific schema. It is simply an extra level of information to know who is accountable for the entries in the Dataset, Model, and Trainer tables. simply add your information as follows:"
   ]
  },
  {
   "cell_type": "code",
   "execution_count": 2,
   "metadata": {},
   "outputs": [],
   "source": [
    "fabrikant_info = dict(fabrikant_name=\"Your Name\", email=\"your@email.com\", affiliation=\"thelab\", dj_username=\"yourname\")\n",
    "Fabrikant().insert1(fabrikant_info)"
   ]
  },
  {
   "cell_type": "code",
   "execution_count": 3,
   "metadata": {},
   "outputs": [
    {
     "data": {
      "text/html": [
       "\n",
       "        \n",
       "        <style type=\"text/css\">\n",
       "            .Relation{\n",
       "                border-collapse:collapse;\n",
       "            }\n",
       "            .Relation th{\n",
       "                background: #A0A0A0; color: #ffffff; padding:4px; border:#f0e0e0 1px solid;\n",
       "                font-weight: normal; font-family: monospace; font-size: 100%;\n",
       "            }\n",
       "            .Relation td{\n",
       "                padding:4px; border:#f0e0e0 1px solid; font-size:100%;\n",
       "            }\n",
       "            .Relation tr:nth-child(odd){\n",
       "                background: #ffffff;\n",
       "            }\n",
       "            .Relation tr:nth-child(even){\n",
       "                background: #f3f1ff;\n",
       "            }\n",
       "            /* Tooltip container */\n",
       "            .djtooltip {\n",
       "            }\n",
       "            /* Tooltip text */\n",
       "            .djtooltip .djtooltiptext {\n",
       "                visibility: hidden;\n",
       "                width: 120px;\n",
       "                background-color: black;\n",
       "                color: #fff;\n",
       "                text-align: center;\n",
       "                padding: 5px 0;\n",
       "                border-radius: 6px;\n",
       "                /* Position the tooltip text - see examples below! */\n",
       "                position: absolute;\n",
       "                z-index: 1;\n",
       "            }\n",
       "            #primary {\n",
       "                font-weight: bold;\n",
       "                color: black;\n",
       "            }\n",
       "\n",
       "            #nonprimary {\n",
       "                font-weight: normal;\n",
       "                color: white;\n",
       "            }\n",
       "\n",
       "            /* Show the tooltip text when you mouse over the tooltip container */\n",
       "            .djtooltip:hover .djtooltiptext {\n",
       "                visibility: visible;\n",
       "            }\n",
       "        </style>\n",
       "        \n",
       "        <b></b>\n",
       "            <div style=\"max-height:1000px;max-width:1500px;overflow:auto;\">\n",
       "            <table border=\"1\" class=\"Relation\">\n",
       "                <thead> <tr style=\"text-align: right;\"> <th> <div class=\"djtooltip\">\n",
       "                                <p id=\"primary\">fabrikant_name</p>\n",
       "                                <span class=\"djtooltiptext\">Name of the contributor that added this entry</span>\n",
       "                            </div></th><th><div class=\"djtooltip\">\n",
       "                                <p id=\"nonprimary\">email</p>\n",
       "                                <span class=\"djtooltiptext\">e-mail address</span>\n",
       "                            </div></th><th><div class=\"djtooltip\">\n",
       "                                <p id=\"nonprimary\">affiliation</p>\n",
       "                                <span class=\"djtooltiptext\">conributor's affiliation</span>\n",
       "                            </div></th><th><div class=\"djtooltip\">\n",
       "                                <p id=\"nonprimary\">dj_username</p>\n",
       "                                <span class=\"djtooltiptext\">DataJoint username</span>\n",
       "                            </div> </th> </tr> </thead>\n",
       "                <tbody> <tr> <td>Your Name</td>\n",
       "<td>your@email.com</td>\n",
       "<td>thelab</td>\n",
       "<td>yourname</td> </tr> </tbody>\n",
       "            </table>\n",
       "            \n",
       "            <p>Total: 1</p></div>\n",
       "            "
      ],
      "text/plain": [
       "*fabrikant_nam email          affiliation    dj_username   \n",
       "+------------+ +------------+ +------------+ +------------+\n",
       "Your Name      your@email.com thelab         yourname      \n",
       " (Total: 1)"
      ]
     },
     "execution_count": 3,
     "metadata": {},
     "output_type": "execute_result"
    }
   ],
   "source": [
    "Fabrikant()"
   ]
  },
  {
   "cell_type": "markdown",
   "metadata": {},
   "source": [
    "## Dataset table"
   ]
  },
  {
   "cell_type": "markdown",
   "metadata": {},
   "source": [
    "Here we need to specify **dataset function** and the arguments passed to the dataset function, **dataset config**. The dataset function is specified as a string. the structure of this string is important since under the hood nnfabrik performs a dynamic import by parsing this string. For example, if you can import the function as\n",
    "``` python\n",
    "from nnfabrik.datasets import toy_dataset_fn\n",
    "```\n",
    "then you should specify the dataset function as:\n",
    "``` python\n",
    "\"nnfabrik.datasets.toy_dataset_fn\"\n",
    "```\n",
    "\n",
    "**Note**: Since nnfabrik would need to import the function, the dataset function must be importable. <br>\n",
    "Also **Note** that dataset config is a dictionary that contains all the arguments that are NOT required by nnfabrik."
   ]
  },
  {
   "cell_type": "code",
   "execution_count": 4,
   "metadata": {},
   "outputs": [],
   "source": [
    "# specify dataset function as string (the function must be importable) as well as the dataset config\n",
    "dataset_fn = \"nnfabrik.datasets.ToyDataset\"\n",
    "dataset_config = dict(batch_size=64) # we specify all the inputs except the ones required by nnfabrik\n",
    "\n",
    "Dataset().add_entry(dataset_fn=dataset_fn, dataset_config=dataset_config, \n",
    "                    dataset_fabrikant=\"Your Name\", dataset_comment=\"A comment about the dataset!\");"
   ]
  },
  {
   "cell_type": "code",
   "execution_count": 5,
   "metadata": {},
   "outputs": [
    {
     "data": {
      "text/html": [
       "\n",
       "        \n",
       "        <style type=\"text/css\">\n",
       "            .Relation{\n",
       "                border-collapse:collapse;\n",
       "            }\n",
       "            .Relation th{\n",
       "                background: #A0A0A0; color: #ffffff; padding:4px; border:#f0e0e0 1px solid;\n",
       "                font-weight: normal; font-family: monospace; font-size: 100%;\n",
       "            }\n",
       "            .Relation td{\n",
       "                padding:4px; border:#f0e0e0 1px solid; font-size:100%;\n",
       "            }\n",
       "            .Relation tr:nth-child(odd){\n",
       "                background: #ffffff;\n",
       "            }\n",
       "            .Relation tr:nth-child(even){\n",
       "                background: #f3f1ff;\n",
       "            }\n",
       "            /* Tooltip container */\n",
       "            .djtooltip {\n",
       "            }\n",
       "            /* Tooltip text */\n",
       "            .djtooltip .djtooltiptext {\n",
       "                visibility: hidden;\n",
       "                width: 120px;\n",
       "                background-color: black;\n",
       "                color: #fff;\n",
       "                text-align: center;\n",
       "                padding: 5px 0;\n",
       "                border-radius: 6px;\n",
       "                /* Position the tooltip text - see examples below! */\n",
       "                position: absolute;\n",
       "                z-index: 1;\n",
       "            }\n",
       "            #primary {\n",
       "                font-weight: bold;\n",
       "                color: black;\n",
       "            }\n",
       "\n",
       "            #nonprimary {\n",
       "                font-weight: normal;\n",
       "                color: white;\n",
       "            }\n",
       "\n",
       "            /* Show the tooltip text when you mouse over the tooltip container */\n",
       "            .djtooltip:hover .djtooltiptext {\n",
       "                visibility: visible;\n",
       "            }\n",
       "        </style>\n",
       "        \n",
       "        <b></b>\n",
       "            <div style=\"max-height:1000px;max-width:1500px;overflow:auto;\">\n",
       "            <table border=\"1\" class=\"Relation\">\n",
       "                <thead> <tr style=\"text-align: right;\"> <th> <div class=\"djtooltip\">\n",
       "                                <p id=\"primary\">dataset_fn</p>\n",
       "                                <span class=\"djtooltiptext\">name of the dataset loader function</span>\n",
       "                            </div></th><th><div class=\"djtooltip\">\n",
       "                                <p id=\"primary\">dataset_hash</p>\n",
       "                                <span class=\"djtooltiptext\">hash of the configuration object</span>\n",
       "                            </div></th><th><div class=\"djtooltip\">\n",
       "                                <p id=\"nonprimary\">dataset_config</p>\n",
       "                                <span class=\"djtooltiptext\">dataset configuration object</span>\n",
       "                            </div></th><th><div class=\"djtooltip\">\n",
       "                                <p id=\"nonprimary\">dataset_fabrikant</p>\n",
       "                                <span class=\"djtooltiptext\">Name of the contributor that added this entry</span>\n",
       "                            </div></th><th><div class=\"djtooltip\">\n",
       "                                <p id=\"nonprimary\">dataset_comment</p>\n",
       "                                <span class=\"djtooltiptext\">short description</span>\n",
       "                            </div></th><th><div class=\"djtooltip\">\n",
       "                                <p id=\"nonprimary\">dataset_ts</p>\n",
       "                                <span class=\"djtooltiptext\">UTZ timestamp at time of insertion</span>\n",
       "                            </div> </th> </tr> </thead>\n",
       "                <tbody> <tr> <td>nnfabrik.datasets.ToyDataset</td>\n",
       "<td>9aee736870714f8b7c3cc084087ce886</td>\n",
       "<td>=BLOB=</td>\n",
       "<td>Your Name</td>\n",
       "<td>A comment about the dataset!</td>\n",
       "<td>2020-06-17 13:44:08</td> </tr> </tbody>\n",
       "            </table>\n",
       "            \n",
       "            <p>Total: 1</p></div>\n",
       "            "
      ],
      "text/plain": [
       "*dataset_fn    *dataset_hash  dataset_co dataset_fabrik dataset_commen dataset_ts    \n",
       "+------------+ +------------+ +--------+ +------------+ +------------+ +------------+\n",
       "nnfabrik.datas 9aee736870714f =BLOB=     Your Name      A comment abou 2020-06-17 13:\n",
       " (Total: 1)"
      ]
     },
     "execution_count": 5,
     "metadata": {},
     "output_type": "execute_result"
    }
   ],
   "source": [
    "Dataset()"
   ]
  },
  {
   "cell_type": "markdown",
   "metadata": {},
   "source": [
    "## Model table"
   ]
  },
  {
   "cell_type": "markdown",
   "metadata": {},
   "source": [
    "Here we need to specify **dataset function** and the arguments passed to the dataset function, **dataset config**. Everything explained for the dataset function applied to model function as well."
   ]
  },
  {
   "cell_type": "code",
   "execution_count": 6,
   "metadata": {},
   "outputs": [],
   "source": [
    "# specify model function as string (the function must be importable) as well as the model config\n",
    "model_fn = \"nnfabrik.models.ToyModelBuilder\"\n",
    "model_config = dict(h_dim=5) # we specify all the inputs except the ones required by nnfabrik\n",
    "\n",
    "Model().add_entry(model_fn=model_fn, model_config=model_config, \n",
    "                  model_fabrikant=\"Your Name\", model_comment=\"A comment about the model!\");"
   ]
  },
  {
   "cell_type": "markdown",
   "metadata": {},
   "source": [
    "Let's also try `h_dim = 15`:"
   ]
  },
  {
   "cell_type": "code",
   "execution_count": 7,
   "metadata": {},
   "outputs": [],
   "source": [
    "model_config = dict(h_dim=15) # we specify all the inputs except the ones required by nnfabrik\n",
    "Model().add_entry(model_fn=model_fn, model_config=model_config, \n",
    "                  model_fabrikant=\"Your Name\", model_comment=\"A comment about the model!\");"
   ]
  },
  {
   "cell_type": "code",
   "execution_count": 8,
   "metadata": {},
   "outputs": [
    {
     "data": {
      "text/html": [
       "\n",
       "        \n",
       "        <style type=\"text/css\">\n",
       "            .Relation{\n",
       "                border-collapse:collapse;\n",
       "            }\n",
       "            .Relation th{\n",
       "                background: #A0A0A0; color: #ffffff; padding:4px; border:#f0e0e0 1px solid;\n",
       "                font-weight: normal; font-family: monospace; font-size: 100%;\n",
       "            }\n",
       "            .Relation td{\n",
       "                padding:4px; border:#f0e0e0 1px solid; font-size:100%;\n",
       "            }\n",
       "            .Relation tr:nth-child(odd){\n",
       "                background: #ffffff;\n",
       "            }\n",
       "            .Relation tr:nth-child(even){\n",
       "                background: #f3f1ff;\n",
       "            }\n",
       "            /* Tooltip container */\n",
       "            .djtooltip {\n",
       "            }\n",
       "            /* Tooltip text */\n",
       "            .djtooltip .djtooltiptext {\n",
       "                visibility: hidden;\n",
       "                width: 120px;\n",
       "                background-color: black;\n",
       "                color: #fff;\n",
       "                text-align: center;\n",
       "                padding: 5px 0;\n",
       "                border-radius: 6px;\n",
       "                /* Position the tooltip text - see examples below! */\n",
       "                position: absolute;\n",
       "                z-index: 1;\n",
       "            }\n",
       "            #primary {\n",
       "                font-weight: bold;\n",
       "                color: black;\n",
       "            }\n",
       "\n",
       "            #nonprimary {\n",
       "                font-weight: normal;\n",
       "                color: white;\n",
       "            }\n",
       "\n",
       "            /* Show the tooltip text when you mouse over the tooltip container */\n",
       "            .djtooltip:hover .djtooltiptext {\n",
       "                visibility: visible;\n",
       "            }\n",
       "        </style>\n",
       "        \n",
       "        <b></b>\n",
       "            <div style=\"max-height:1000px;max-width:1500px;overflow:auto;\">\n",
       "            <table border=\"1\" class=\"Relation\">\n",
       "                <thead> <tr style=\"text-align: right;\"> <th> <div class=\"djtooltip\">\n",
       "                                <p id=\"primary\">model_fn</p>\n",
       "                                <span class=\"djtooltiptext\">name of the model function</span>\n",
       "                            </div></th><th><div class=\"djtooltip\">\n",
       "                                <p id=\"primary\">model_hash</p>\n",
       "                                <span class=\"djtooltiptext\">hash of the model configuration</span>\n",
       "                            </div></th><th><div class=\"djtooltip\">\n",
       "                                <p id=\"nonprimary\">model_config</p>\n",
       "                                <span class=\"djtooltiptext\">model configuration to be passed into the function</span>\n",
       "                            </div></th><th><div class=\"djtooltip\">\n",
       "                                <p id=\"nonprimary\">model_fabrikant</p>\n",
       "                                <span class=\"djtooltiptext\">Name of the contributor that added this entry</span>\n",
       "                            </div></th><th><div class=\"djtooltip\">\n",
       "                                <p id=\"nonprimary\">model_comment</p>\n",
       "                                <span class=\"djtooltiptext\">short description</span>\n",
       "                            </div></th><th><div class=\"djtooltip\">\n",
       "                                <p id=\"nonprimary\">model_ts</p>\n",
       "                                <span class=\"djtooltiptext\">UTZ timestamp at time of insertion</span>\n",
       "                            </div> </th> </tr> </thead>\n",
       "                <tbody> <tr> <td>nnfabrik.models.ToyModelBuilder</td>\n",
       "<td>24922759b843076328c4f3b9df3f88d0</td>\n",
       "<td>=BLOB=</td>\n",
       "<td>Your Name</td>\n",
       "<td>A comment about the model!</td>\n",
       "<td>2020-06-17 13:44:08</td></tr><tr><td>nnfabrik.models.ToyModelBuilder</td>\n",
       "<td>46b0c26ef504ff0eddf55b15550a4f98</td>\n",
       "<td>=BLOB=</td>\n",
       "<td>Your Name</td>\n",
       "<td>A comment about the model!</td>\n",
       "<td>2020-06-17 13:44:08</td> </tr> </tbody>\n",
       "            </table>\n",
       "            \n",
       "            <p>Total: 2</p></div>\n",
       "            "
      ],
      "text/plain": [
       "*model_fn      *model_hash    model_conf model_fabrikan model_comment  model_ts      \n",
       "+------------+ +------------+ +--------+ +------------+ +------------+ +------------+\n",
       "nnfabrik.model 24922759b84307 =BLOB=     Your Name      A comment abou 2020-06-17 13:\n",
       "nnfabrik.model 46b0c26ef504ff =BLOB=     Your Name      A comment abou 2020-06-17 13:\n",
       " (Total: 2)"
      ]
     },
     "execution_count": 8,
     "metadata": {},
     "output_type": "execute_result"
    }
   ],
   "source": [
    "Model()"
   ]
  },
  {
   "cell_type": "markdown",
   "metadata": {},
   "source": [
    "## Trainer table"
   ]
  },
  {
   "cell_type": "markdown",
   "metadata": {},
   "source": [
    "Here we need to specify **trainer function** and the arguments passed to the trainer function, **trainer config**. Everything explained for the dataset function applied to trainer function as well."
   ]
  },
  {
   "cell_type": "code",
   "execution_count": 9,
   "metadata": {},
   "outputs": [],
   "source": [
    "# specify trainer function as string (the function must be importable) as well as the trainer config\n",
    "trainer_fn = \"nnfabrik.training.ToyTrainer\"\n",
    "trainer_config = dict(epochs=10) # we specify all the inputs except the ones required by nnfabrik\n",
    "\n",
    "Trainer().add_entry(trainer_fn=trainer_fn, trainer_config=trainer_config, \n",
    "                  trainer_fabrikant=\"Your Name\", trainer_comment=\"A comment about the trainer!\");"
   ]
  },
  {
   "cell_type": "code",
   "execution_count": 10,
   "metadata": {},
   "outputs": [
    {
     "data": {
      "text/html": [
       "\n",
       "        \n",
       "        <style type=\"text/css\">\n",
       "            .Relation{\n",
       "                border-collapse:collapse;\n",
       "            }\n",
       "            .Relation th{\n",
       "                background: #A0A0A0; color: #ffffff; padding:4px; border:#f0e0e0 1px solid;\n",
       "                font-weight: normal; font-family: monospace; font-size: 100%;\n",
       "            }\n",
       "            .Relation td{\n",
       "                padding:4px; border:#f0e0e0 1px solid; font-size:100%;\n",
       "            }\n",
       "            .Relation tr:nth-child(odd){\n",
       "                background: #ffffff;\n",
       "            }\n",
       "            .Relation tr:nth-child(even){\n",
       "                background: #f3f1ff;\n",
       "            }\n",
       "            /* Tooltip container */\n",
       "            .djtooltip {\n",
       "            }\n",
       "            /* Tooltip text */\n",
       "            .djtooltip .djtooltiptext {\n",
       "                visibility: hidden;\n",
       "                width: 120px;\n",
       "                background-color: black;\n",
       "                color: #fff;\n",
       "                text-align: center;\n",
       "                padding: 5px 0;\n",
       "                border-radius: 6px;\n",
       "                /* Position the tooltip text - see examples below! */\n",
       "                position: absolute;\n",
       "                z-index: 1;\n",
       "            }\n",
       "            #primary {\n",
       "                font-weight: bold;\n",
       "                color: black;\n",
       "            }\n",
       "\n",
       "            #nonprimary {\n",
       "                font-weight: normal;\n",
       "                color: white;\n",
       "            }\n",
       "\n",
       "            /* Show the tooltip text when you mouse over the tooltip container */\n",
       "            .djtooltip:hover .djtooltiptext {\n",
       "                visibility: visible;\n",
       "            }\n",
       "        </style>\n",
       "        \n",
       "        <b></b>\n",
       "            <div style=\"max-height:1000px;max-width:1500px;overflow:auto;\">\n",
       "            <table border=\"1\" class=\"Relation\">\n",
       "                <thead> <tr style=\"text-align: right;\"> <th> <div class=\"djtooltip\">\n",
       "                                <p id=\"primary\">trainer_fn</p>\n",
       "                                <span class=\"djtooltiptext\">name of the Trainer loader function</span>\n",
       "                            </div></th><th><div class=\"djtooltip\">\n",
       "                                <p id=\"primary\">trainer_hash</p>\n",
       "                                <span class=\"djtooltiptext\">hash of the configuration object</span>\n",
       "                            </div></th><th><div class=\"djtooltip\">\n",
       "                                <p id=\"nonprimary\">trainer_config</p>\n",
       "                                <span class=\"djtooltiptext\">training configuration object</span>\n",
       "                            </div></th><th><div class=\"djtooltip\">\n",
       "                                <p id=\"nonprimary\">trainer_fabrikant</p>\n",
       "                                <span class=\"djtooltiptext\">Name of the contributor that added this entry</span>\n",
       "                            </div></th><th><div class=\"djtooltip\">\n",
       "                                <p id=\"nonprimary\">trainer_comment</p>\n",
       "                                <span class=\"djtooltiptext\">short description</span>\n",
       "                            </div></th><th><div class=\"djtooltip\">\n",
       "                                <p id=\"nonprimary\">trainer_ts</p>\n",
       "                                <span class=\"djtooltiptext\">UTZ timestamp at time of insertion</span>\n",
       "                            </div> </th> </tr> </thead>\n",
       "                <tbody> <tr> <td>nnfabrik.training.ToyTrainer</td>\n",
       "<td>637d24c002384d634263be69ca76f0a6</td>\n",
       "<td>=BLOB=</td>\n",
       "<td>Your Name</td>\n",
       "<td>A comment about the trainer!</td>\n",
       "<td>2020-06-17 13:44:09</td> </tr> </tbody>\n",
       "            </table>\n",
       "            \n",
       "            <p>Total: 1</p></div>\n",
       "            "
      ],
      "text/plain": [
       "*trainer_fn    *trainer_hash  trainer_co trainer_fabrik trainer_commen trainer_ts    \n",
       "+------------+ +------------+ +--------+ +------------+ +------------+ +------------+\n",
       "nnfabrik.train 637d24c002384d =BLOB=     Your Name      A comment abou 2020-06-17 13:\n",
       " (Total: 1)"
      ]
     },
     "execution_count": 10,
     "metadata": {},
     "output_type": "execute_result"
    }
   ],
   "source": [
    "Trainer()"
   ]
  },
  {
   "cell_type": "markdown",
   "metadata": {},
   "source": [
    "## Seed table"
   ]
  },
  {
   "cell_type": "markdown",
   "metadata": {},
   "source": [
    "Now we have one final table to fill up before we start training our models with all the combinations in Dataset, Model, and Trainer tables. That table is the **Seed** table."
   ]
  },
  {
   "cell_type": "code",
   "execution_count": 11,
   "metadata": {},
   "outputs": [],
   "source": [
    "Seed().insert1({'seed': 2020})"
   ]
  },
  {
   "cell_type": "code",
   "execution_count": 12,
   "metadata": {},
   "outputs": [
    {
     "data": {
      "text/html": [
       "\n",
       "        \n",
       "        <style type=\"text/css\">\n",
       "            .Relation{\n",
       "                border-collapse:collapse;\n",
       "            }\n",
       "            .Relation th{\n",
       "                background: #A0A0A0; color: #ffffff; padding:4px; border:#f0e0e0 1px solid;\n",
       "                font-weight: normal; font-family: monospace; font-size: 100%;\n",
       "            }\n",
       "            .Relation td{\n",
       "                padding:4px; border:#f0e0e0 1px solid; font-size:100%;\n",
       "            }\n",
       "            .Relation tr:nth-child(odd){\n",
       "                background: #ffffff;\n",
       "            }\n",
       "            .Relation tr:nth-child(even){\n",
       "                background: #f3f1ff;\n",
       "            }\n",
       "            /* Tooltip container */\n",
       "            .djtooltip {\n",
       "            }\n",
       "            /* Tooltip text */\n",
       "            .djtooltip .djtooltiptext {\n",
       "                visibility: hidden;\n",
       "                width: 120px;\n",
       "                background-color: black;\n",
       "                color: #fff;\n",
       "                text-align: center;\n",
       "                padding: 5px 0;\n",
       "                border-radius: 6px;\n",
       "                /* Position the tooltip text - see examples below! */\n",
       "                position: absolute;\n",
       "                z-index: 1;\n",
       "            }\n",
       "            #primary {\n",
       "                font-weight: bold;\n",
       "                color: black;\n",
       "            }\n",
       "\n",
       "            #nonprimary {\n",
       "                font-weight: normal;\n",
       "                color: white;\n",
       "            }\n",
       "\n",
       "            /* Show the tooltip text when you mouse over the tooltip container */\n",
       "            .djtooltip:hover .djtooltiptext {\n",
       "                visibility: visible;\n",
       "            }\n",
       "        </style>\n",
       "        \n",
       "        <b></b>\n",
       "            <div style=\"max-height:1000px;max-width:1500px;overflow:auto;\">\n",
       "            <table border=\"1\" class=\"Relation\">\n",
       "                <thead> <tr style=\"text-align: right;\"> <th> <div class=\"djtooltip\">\n",
       "                                <p id=\"primary\">seed</p>\n",
       "                                <span class=\"djtooltiptext\">Random seed that is passed to the model- and dataset-builder</span>\n",
       "                            </div> </th> </tr> </thead>\n",
       "                <tbody> <tr> <td>2020</td> </tr> </tbody>\n",
       "            </table>\n",
       "            \n",
       "            <p>Total: 1</p></div>\n",
       "            "
      ],
      "text/plain": [
       "*seed   \n",
       "+------+\n",
       "2020    \n",
       " (Total: 1)"
      ]
     },
     "execution_count": 12,
     "metadata": {},
     "output_type": "execute_result"
    }
   ],
   "source": [
    "Seed()"
   ]
  },
  {
   "cell_type": "markdown",
   "metadata": {},
   "source": [
    "## Trainedmodel table"
   ]
  },
  {
   "cell_type": "markdown",
   "metadata": {},
   "source": [
    "Once we have bunch of trained models, the downstream analysis might be different for each specific project. for this reason, we keep the TrainedModel trables separate from the tables provided in the library. However, the process of creating your own TrainedModel has becomes very easy with the template(s) provided y nnfabrik."
   ]
  },
  {
   "cell_type": "markdown",
   "metadata": {},
   "source": [
    "#### Create your TrainedModel table"
   ]
  },
  {
   "cell_type": "code",
   "execution_count": 13,
   "metadata": {},
   "outputs": [],
   "source": [
    "from nnfabrik.template import TrainedModelBase"
   ]
  },
  {
   "cell_type": "code",
   "execution_count": 14,
   "metadata": {},
   "outputs": [],
   "source": [
    "@schema\n",
    "class TrainedModel(TrainedModelBase):\n",
    "    table_comment = \"Trained models\""
   ]
  },
  {
   "cell_type": "markdown",
   "metadata": {},
   "source": [
    "## Populate (fill up) the TrainedModel table"
   ]
  },
  {
   "cell_type": "code",
   "execution_count": 15,
   "metadata": {},
   "outputs": [
    {
     "name": "stderr",
     "output_type": "stream",
     "text": [
      "100%|██████████| 2/2 [00:02<00:00,  1.48s/it]\n"
     ]
    }
   ],
   "source": [
    "TrainedModel.populate(display_progress=True)"
   ]
  },
  {
   "cell_type": "code",
   "execution_count": 16,
   "metadata": {},
   "outputs": [
    {
     "data": {
      "text/html": [
       "\n",
       "        \n",
       "        <style type=\"text/css\">\n",
       "            .Relation{\n",
       "                border-collapse:collapse;\n",
       "            }\n",
       "            .Relation th{\n",
       "                background: #A0A0A0; color: #ffffff; padding:4px; border:#f0e0e0 1px solid;\n",
       "                font-weight: normal; font-family: monospace; font-size: 100%;\n",
       "            }\n",
       "            .Relation td{\n",
       "                padding:4px; border:#f0e0e0 1px solid; font-size:100%;\n",
       "            }\n",
       "            .Relation tr:nth-child(odd){\n",
       "                background: #ffffff;\n",
       "            }\n",
       "            .Relation tr:nth-child(even){\n",
       "                background: #f3f1ff;\n",
       "            }\n",
       "            /* Tooltip container */\n",
       "            .djtooltip {\n",
       "            }\n",
       "            /* Tooltip text */\n",
       "            .djtooltip .djtooltiptext {\n",
       "                visibility: hidden;\n",
       "                width: 120px;\n",
       "                background-color: black;\n",
       "                color: #fff;\n",
       "                text-align: center;\n",
       "                padding: 5px 0;\n",
       "                border-radius: 6px;\n",
       "                /* Position the tooltip text - see examples below! */\n",
       "                position: absolute;\n",
       "                z-index: 1;\n",
       "            }\n",
       "            #primary {\n",
       "                font-weight: bold;\n",
       "                color: black;\n",
       "            }\n",
       "\n",
       "            #nonprimary {\n",
       "                font-weight: normal;\n",
       "                color: white;\n",
       "            }\n",
       "\n",
       "            /* Show the tooltip text when you mouse over the tooltip container */\n",
       "            .djtooltip:hover .djtooltiptext {\n",
       "                visibility: visible;\n",
       "            }\n",
       "        </style>\n",
       "        \n",
       "        <b>Trained models</b>\n",
       "            <div style=\"max-height:1000px;max-width:1500px;overflow:auto;\">\n",
       "            <table border=\"1\" class=\"Relation\">\n",
       "                <thead> <tr style=\"text-align: right;\"> <th> <div class=\"djtooltip\">\n",
       "                                <p id=\"primary\">model_fn</p>\n",
       "                                <span class=\"djtooltiptext\">name of the model function</span>\n",
       "                            </div></th><th><div class=\"djtooltip\">\n",
       "                                <p id=\"primary\">model_hash</p>\n",
       "                                <span class=\"djtooltiptext\">hash of the model configuration</span>\n",
       "                            </div></th><th><div class=\"djtooltip\">\n",
       "                                <p id=\"primary\">dataset_fn</p>\n",
       "                                <span class=\"djtooltiptext\">name of the dataset loader function</span>\n",
       "                            </div></th><th><div class=\"djtooltip\">\n",
       "                                <p id=\"primary\">dataset_hash</p>\n",
       "                                <span class=\"djtooltiptext\">hash of the configuration object</span>\n",
       "                            </div></th><th><div class=\"djtooltip\">\n",
       "                                <p id=\"primary\">trainer_fn</p>\n",
       "                                <span class=\"djtooltiptext\">name of the Trainer loader function</span>\n",
       "                            </div></th><th><div class=\"djtooltip\">\n",
       "                                <p id=\"primary\">trainer_hash</p>\n",
       "                                <span class=\"djtooltiptext\">hash of the configuration object</span>\n",
       "                            </div></th><th><div class=\"djtooltip\">\n",
       "                                <p id=\"primary\">seed</p>\n",
       "                                <span class=\"djtooltiptext\">Random seed that is passed to the model- and dataset-builder</span>\n",
       "                            </div></th><th><div class=\"djtooltip\">\n",
       "                                <p id=\"nonprimary\">comment</p>\n",
       "                                <span class=\"djtooltiptext\">short description</span>\n",
       "                            </div></th><th><div class=\"djtooltip\">\n",
       "                                <p id=\"nonprimary\">score</p>\n",
       "                                <span class=\"djtooltiptext\">loss</span>\n",
       "                            </div></th><th><div class=\"djtooltip\">\n",
       "                                <p id=\"nonprimary\">output</p>\n",
       "                                <span class=\"djtooltiptext\">trainer object's output</span>\n",
       "                            </div></th><th><div class=\"djtooltip\">\n",
       "                                <p id=\"nonprimary\">fabrikant_name</p>\n",
       "                                <span class=\"djtooltiptext\">Name of the contributor that added this entry</span>\n",
       "                            </div></th><th><div class=\"djtooltip\">\n",
       "                                <p id=\"nonprimary\">trainedmodel_ts</p>\n",
       "                                <span class=\"djtooltiptext\">UTZ timestamp at time of insertion</span>\n",
       "                            </div> </th> </tr> </thead>\n",
       "                <tbody> <tr> <td>nnfabrik.models.ToyModelBuilder</td>\n",
       "<td>24922759b843076328c4f3b9df3f88d0</td>\n",
       "<td>nnfabrik.datasets.ToyDataset</td>\n",
       "<td>9aee736870714f8b7c3cc084087ce886</td>\n",
       "<td>nnfabrik.training.ToyTrainer</td>\n",
       "<td>637d24c002384d634263be69ca76f0a6</td>\n",
       "<td>2020</td>\n",
       "<td>A comment about the trainer!.A comment about the model!.A comment about the dataset!</td>\n",
       "<td>0.334282</td>\n",
       "<td>=BLOB=</td>\n",
       "<td>None</td>\n",
       "<td>2020-06-17 13:44:14</td></tr><tr><td>nnfabrik.models.ToyModelBuilder</td>\n",
       "<td>46b0c26ef504ff0eddf55b15550a4f98</td>\n",
       "<td>nnfabrik.datasets.ToyDataset</td>\n",
       "<td>9aee736870714f8b7c3cc084087ce886</td>\n",
       "<td>nnfabrik.training.ToyTrainer</td>\n",
       "<td>637d24c002384d634263be69ca76f0a6</td>\n",
       "<td>2020</td>\n",
       "<td>A comment about the trainer!.A comment about the model!.A comment about the dataset!</td>\n",
       "<td>0.334282</td>\n",
       "<td>=BLOB=</td>\n",
       "<td>None</td>\n",
       "<td>2020-06-17 13:44:16</td> </tr> </tbody>\n",
       "            </table>\n",
       "            \n",
       "            <p>Total: 2</p></div>\n",
       "            "
      ],
      "text/plain": [
       "*model_fn      *model_hash    *dataset_fn    *dataset_hash  *trainer_fn    *trainer_hash  *seed    comment        score        output     fabrikant_name trainedmodel_t\n",
       "+------------+ +------------+ +------------+ +------------+ +------------+ +------------+ +------+ +------------+ +----------+ +--------+ +------------+ +------------+\n",
       "nnfabrik.model 24922759b84307 nnfabrik.datas 9aee736870714f nnfabrik.train 637d24c002384d 2020     A comment abou 0.334282     =BLOB=     None           2020-06-17 13:\n",
       "nnfabrik.model 46b0c26ef504ff nnfabrik.datas 9aee736870714f nnfabrik.train 637d24c002384d 2020     A comment abou 0.334282     =BLOB=     None           2020-06-17 13:\n",
       " (Total: 2)"
      ]
     },
     "execution_count": 16,
     "metadata": {},
     "output_type": "execute_result"
    }
   ],
   "source": [
    "TrainedModel()"
   ]
  },
  {
   "cell_type": "markdown",
   "metadata": {},
   "source": [
    "---"
   ]
  },
  {
   "cell_type": "markdown",
   "metadata": {},
   "source": [
    "## Any questions?\n",
    "\n",
    "If you have any questions feel free to contact any of the contributors."
   ]
  }
 ],
 "metadata": {
  "kernelspec": {
   "display_name": "Python 3",
   "language": "python",
   "name": "python3"
  },
  "language_info": {
   "codemirror_mode": {
    "name": "ipython",
    "version": 3
   },
   "file_extension": ".py",
   "mimetype": "text/x-python",
   "name": "python",
   "nbconvert_exporter": "python",
   "pygments_lexer": "ipython3",
   "version": "3.8.0"
  }
 },
 "nbformat": 4,
 "nbformat_minor": 4
}
